{
 "cells": [
  {
   "cell_type": "code",
   "execution_count": 1,
   "metadata": {},
   "outputs": [
    {
     "name": "stderr",
     "output_type": "stream",
     "text": [
      "Using TensorFlow backend.\n"
     ]
    }
   ],
   "source": [
    "# import packages\n",
    "import numpy as np\n",
    "import pandas as pd\n",
    "import spacy\n",
    "import en_coref_md\n",
    "from nltk.corpus import stopwords\n",
    "from nltk.corpus import sentiwordnet as swn\n",
    "import string\n",
    "import nltk\n",
    "import csv\n",
    "import os\n",
    "from inflection import singularize\n",
    "from collections import Counter\n",
    "import itertools\n",
    "import keras\n",
    "import xml.etree.ElementTree as etree\n",
    "import matplotlib.pyplot as plt"
   ]
  },
  {
   "cell_type": "code",
   "execution_count": 2,
   "metadata": {
    "collapsed": true
   },
   "outputs": [],
   "source": [
    "nlp = spacy.load('en_core_web_sm')"
   ]
  },
  {
   "cell_type": "markdown",
   "metadata": {},
   "source": [
    "## Build Architecture\n",
    "create subdirectories to store preprocessing models, aspect classifiers and sentiment classifiers"
   ]
  },
  {
   "cell_type": "code",
   "execution_count": 142,
   "metadata": {},
   "outputs": [],
   "source": [
    "# used to store pre-trained transformers and classifiers\n",
    "base_dir = \"models\"\n",
    "os.mkdir(base_dir)\n",
    "def build_architecture(base_dir, model_type):\n",
    "\n",
    "    \"\"\"function: generate subdirectories to store preprocessing, aspect classifiers and sentiment classifiers\n",
    "       params: base_dir: base directories\n",
    "               model_type: type of models\n",
    "       return: subdirectories paths generated\"\"\"\n",
    "\n",
    "    # save model types, SVM+DNN, CNN+SVM,...\n",
    "    model_dir = os.path.join(base_dir, model_type)\n",
    "    os.mkdir(model_dir)\n",
    "\n",
    "    # preprocessing folder to save transformers to disk\n",
    "    preprocessing_folder = os.path.join(model_dir, \"preprocessing\")\n",
    "    os.mkdir(preprocessing_folder)\n",
    "\n",
    "    # weight-learning classifier folder to save aspect_classifier to disk\n",
    "    aspect_classifier_folder = os.path.join(model_dir, \"aspect_classifier\")\n",
    "    os.mkdir(aspect_classifier_folder)\n",
    "    \n",
    "    # sentiment classifier folder to save sentiment_classifier to disk\n",
    "    sentiment_classifier_folder = os.path.join(model_dir, \"sentiment_classifier\")\n",
    "    os.mkdir(sentiment_classifier_folder)\n",
    "    \n",
    "    return preprocessing_folder, aspect_classifier_folder, sentiment_classifier_folder"
   ]
  },
  {
   "cell_type": "code",
   "execution_count": 108,
   "metadata": {},
   "outputs": [],
   "source": [
    "preprocessing_folder, aspect_classifier_folder, sentiment_classifier_folder = build_architecture(base_dir, \"SVM+SVM\")"
   ]
  },
  {
   "cell_type": "markdown",
   "metadata": {},
   "source": [
    "## Parse text"
   ]
  },
  {
   "cell_type": "code",
   "execution_count": 112,
   "metadata": {
    "collapsed": true
   },
   "outputs": [],
   "source": [
    "## pre-identified categories: AMBIENCE, FOOD, RESTAURANT, SERVICE, DRINKS, LOCATION\n",
    "def parse_text(path):\n",
    "    \n",
    "    \"\"\"function: parse xml files, only suitable for this project's input format\n",
    "       params: path: input file path\n",
    "       return: return dataframe storing necessary information \"\"\"\n",
    "    \n",
    "    tree = etree.parse(path)\n",
    "    reviews = tree.getroot()\n",
    "    annotated_reviews = []\n",
    "    for review in reviews:\n",
    "        # restaurant id\n",
    "        rid = review.attrib[\"rid\"]\n",
    "        for sentences in review:\n",
    "            for sentence in sentences:\n",
    "                sentence_review = {}\n",
    "                sentence_review[\"sentence\"] = sentence[0].text\n",
    "                sentence_review[\"rid\"] = rid\n",
    "                if len(sentence) > 1:\n",
    "                    sentence_review[\"is_ambience\"] = 0\n",
    "                    sentence_review[\"is_food\"] = 0\n",
    "                    sentence_review[\"is_restaurant\"] = 0\n",
    "                    sentence_review[\"is_service\"] = 0\n",
    "                    sentence_review[\"is_other\"] = 0\n",
    "                \n",
    "                \n",
    "                    for opinion in sentence[1]: # opinions\n",
    "                        pairs = opinion.attrib\n",
    "                    \n",
    "                        entity = pairs[\"category\"].split(\"#\")[0]\n",
    "                    \n",
    "                        # combine DRINKS & LOCATION into OTHER category\n",
    "                        if entity == \"DRINKS\" or entity == \"LOCATION\":\n",
    "                            sentence_review[\"is_other\"] = 1\n",
    "                        elif entity == \"AMBIENCE\":\n",
    "                            sentence_review[\"is_ambience\"] = 1\n",
    "                        elif entity == \"FOOD\":\n",
    "                            sentence_review[\"is_food\"] = 1\n",
    "                        elif entity == \"RESTAURANT\":\n",
    "                            sentence_review[\"is_restaurant\"] = 1\n",
    "                        elif entity == \"SERVICE\":\n",
    "                            sentence_review[\"is_service\"] = 1\n",
    "                    \n",
    "                        # assume only one sentiment expressed towards one aspect\n",
    "                        sentence_review[\"target\"] = pairs[\"target\"]\n",
    "                        sentence_review[\"polarity\"] = pairs[\"polarity\"]\n",
    "\n",
    "                annotated_reviews.append(sentence_review)\n",
    "                \n",
    "    df = pd.DataFrame(annotated_reviews)\n",
    "    \n",
    "    return df\n"
   ]
  },
  {
   "cell_type": "code",
   "execution_count": 113,
   "metadata": {
    "collapsed": true
   },
   "outputs": [],
   "source": [
    "def normalize(sent):\n",
    "    \n",
    "    \"\"\"function: normalize input sentence by lemmentization\n",
    "       params: raw sentence\n",
    "       return: normalized sentence\"\"\"\n",
    "    \n",
    "    sent = nlp(sent)\n",
    "    return \" \".join([str(token.lemma_) for token in sent])"
   ]
  },
  {
   "cell_type": "code",
   "execution_count": 114,
   "metadata": {
    "collapsed": true
   },
   "outputs": [],
   "source": [
    "# train\n",
    "train_path_sb1 = \"Annotation/restaurant/ABSA16_Restaurants_Train_SB1_v2.xml\"\n",
    "\n",
    "# test\n",
    "test_path_sb1 = \"Annotation/restaurant/EN_REST_SB1_TEST.xml\""
   ]
  },
  {
   "cell_type": "code",
   "execution_count": 25,
   "metadata": {},
   "outputs": [],
   "source": [
    "# train\n",
    "gold_df = parse_text(train_path_sb1)\n",
    "\n",
    "# exclude if polarity is nan\n",
    "train_df = gold_df[~gold_df.polarity.isnull()]\n",
    "train_df = train_df.reset_index(drop= True)\n",
    "\n",
    "# test\n",
    "gold_df = parse_text(test_path_sb1)\n",
    "\n",
    "# exclude if polarity is nan\n",
    "test_df = gold_df[~gold_df.polarity.isnull()]\n",
    "test_df = test_df.reset_index(drop= True)"
   ]
  },
  {
   "cell_type": "code",
   "execution_count": 29,
   "metadata": {},
   "outputs": [
    {
     "data": {
      "text/html": [
       "<div>\n",
       "<style>\n",
       "    .dataframe thead tr:only-child th {\n",
       "        text-align: right;\n",
       "    }\n",
       "\n",
       "    .dataframe thead th {\n",
       "        text-align: left;\n",
       "    }\n",
       "\n",
       "    .dataframe tbody tr th {\n",
       "        vertical-align: top;\n",
       "    }\n",
       "</style>\n",
       "<table border=\"1\" class=\"dataframe\">\n",
       "  <thead>\n",
       "    <tr style=\"text-align: right;\">\n",
       "      <th></th>\n",
       "      <th>is_ambience</th>\n",
       "      <th>is_food</th>\n",
       "      <th>is_other</th>\n",
       "      <th>is_restaurant</th>\n",
       "      <th>is_service</th>\n",
       "      <th>polarity</th>\n",
       "      <th>rid</th>\n",
       "      <th>sentence</th>\n",
       "      <th>target</th>\n",
       "      <th>normalize_sentence</th>\n",
       "    </tr>\n",
       "  </thead>\n",
       "  <tbody>\n",
       "    <tr>\n",
       "      <th>0</th>\n",
       "      <td>0</td>\n",
       "      <td>1</td>\n",
       "      <td>0</td>\n",
       "      <td>0</td>\n",
       "      <td>0</td>\n",
       "      <td>positive</td>\n",
       "      <td>en_BlueRibbonSushi_478218171</td>\n",
       "      <td>Yum!</td>\n",
       "      <td>NULL</td>\n",
       "      <td>yum !</td>\n",
       "    </tr>\n",
       "    <tr>\n",
       "      <th>1</th>\n",
       "      <td>0</td>\n",
       "      <td>1</td>\n",
       "      <td>0</td>\n",
       "      <td>0</td>\n",
       "      <td>0</td>\n",
       "      <td>positive</td>\n",
       "      <td>en_BlueRibbonSushi_478218171</td>\n",
       "      <td>Serves really good sushi.</td>\n",
       "      <td>sushi</td>\n",
       "      <td>serve really good sushi .</td>\n",
       "    </tr>\n",
       "    <tr>\n",
       "      <th>2</th>\n",
       "      <td>0</td>\n",
       "      <td>1</td>\n",
       "      <td>0</td>\n",
       "      <td>0</td>\n",
       "      <td>0</td>\n",
       "      <td>neutral</td>\n",
       "      <td>en_BlueRibbonSushi_478218171</td>\n",
       "      <td>Not the biggest portions but adequate.</td>\n",
       "      <td>portions</td>\n",
       "      <td>not the big portion but adequate .</td>\n",
       "    </tr>\n",
       "    <tr>\n",
       "      <th>3</th>\n",
       "      <td>0</td>\n",
       "      <td>1</td>\n",
       "      <td>0</td>\n",
       "      <td>0</td>\n",
       "      <td>0</td>\n",
       "      <td>positive</td>\n",
       "      <td>en_BlueRibbonSushi_478218171</td>\n",
       "      <td>Green Tea creme brulee is a must!</td>\n",
       "      <td>Green Tea creme brulee</td>\n",
       "      <td>green tea creme brulee be a must !</td>\n",
       "    </tr>\n",
       "    <tr>\n",
       "      <th>4</th>\n",
       "      <td>0</td>\n",
       "      <td>1</td>\n",
       "      <td>0</td>\n",
       "      <td>0</td>\n",
       "      <td>0</td>\n",
       "      <td>positive</td>\n",
       "      <td>en_BlueRibbonSushi_478218171</td>\n",
       "      <td>Don't leave the restaurant without it.</td>\n",
       "      <td>NULL</td>\n",
       "      <td>do not leave the restaurant without -PRON- .</td>\n",
       "    </tr>\n",
       "  </tbody>\n",
       "</table>\n",
       "</div>"
      ],
      "text/plain": [
       "   is_ambience  is_food  is_other  is_restaurant  is_service  polarity  \\\n",
       "0            0        1         0              0           0  positive   \n",
       "1            0        1         0              0           0  positive   \n",
       "2            0        1         0              0           0   neutral   \n",
       "3            0        1         0              0           0  positive   \n",
       "4            0        1         0              0           0  positive   \n",
       "\n",
       "                            rid                                sentence  \\\n",
       "0  en_BlueRibbonSushi_478218171                                    Yum!   \n",
       "1  en_BlueRibbonSushi_478218171               Serves really good sushi.   \n",
       "2  en_BlueRibbonSushi_478218171  Not the biggest portions but adequate.   \n",
       "3  en_BlueRibbonSushi_478218171       Green Tea creme brulee is a must!   \n",
       "4  en_BlueRibbonSushi_478218171  Don't leave the restaurant without it.   \n",
       "\n",
       "                   target                            normalize_sentence  \n",
       "0                    NULL                                         yum !  \n",
       "1                   sushi                     serve really good sushi .  \n",
       "2                portions            not the big portion but adequate .  \n",
       "3  Green Tea creme brulee            green tea creme brulee be a must !  \n",
       "4                    NULL  do not leave the restaurant without -PRON- .  "
      ]
     },
     "execution_count": 29,
     "metadata": {},
     "output_type": "execute_result"
    }
   ],
   "source": [
    "# train\n",
    "train_df[\"normalize_sentence\"] = train_df.sentence.apply(lambda x: normalize(x))\n",
    "train_df.head(5)\n",
    "\n",
    "# test\n",
    "test_df[\"normalize_sentence\"] = test_df.sentence.apply(lambda x: normalize(x))\n",
    "test_df.head(5)"
   ]
  },
  {
   "cell_type": "markdown",
   "metadata": {},
   "source": [
    "### Save parsed text to csv"
   ]
  },
  {
   "cell_type": "code",
   "execution_count": 30,
   "metadata": {
    "collapsed": true
   },
   "outputs": [],
   "source": [
    "import os\n",
    "parsed_dir = \"Annotation/restaurant/\"\n",
    "os.mkdir(os.path.join(parsed_dir, \"parsed\"))"
   ]
  },
  {
   "cell_type": "code",
   "execution_count": 31,
   "metadata": {
    "collapsed": true
   },
   "outputs": [],
   "source": [
    "train_save_path = \"Annotation/restaurant/parsed/ABSA16_Restaurants_Train_SB1.csv\"\n",
    "train_df.to_csv(train_save_path, encoding='utf-8', index=False)\n",
    "\n",
    "test_save_path = \"Annotation/restaurant/parsed/ABSA16_Restaurants_Test_SB1.csv\"\n",
    "test_df.to_csv(test_save_path, encoding='utf-8', index=False)"
   ]
  },
  {
   "cell_type": "markdown",
   "metadata": {},
   "source": [
    "## Polarity Transformation"
   ]
  },
  {
   "cell_type": "code",
   "execution_count": 115,
   "metadata": {
    "collapsed": true
   },
   "outputs": [],
   "source": [
    "from sklearn import preprocessing\n",
    "lb = preprocessing.LabelEncoder()\n",
    "y_train = lb.fit_transform(train_df.polarity)\n",
    "\n",
    "y_test = lb.transform(test_df.polarity)"
   ]
  },
  {
   "cell_type": "code",
   "execution_count": 116,
   "metadata": {
    "collapsed": true
   },
   "outputs": [],
   "source": [
    "class_weight = {}\n",
    "weights = len(y_train) / (3 * np.bincount(y_train))\n",
    "for w in range(weights.shape[0]):\n",
    "    class_weight[w] = weights[w]"
   ]
  },
  {
   "cell_type": "code",
   "execution_count": 117,
   "metadata": {},
   "outputs": [
    {
     "data": {
      "text/plain": [
       "{0: 1.037037037037037, 1: 8.895833333333334, 2: 0.5199391171993911}"
      ]
     },
     "execution_count": 117,
     "metadata": {},
     "output_type": "execute_result"
    }
   ],
   "source": [
    "class_weight"
   ]
  },
  {
   "cell_type": "code",
   "execution_count": 118,
   "metadata": {
    "collapsed": true
   },
   "outputs": [],
   "source": [
    "# encode sentiment polarity: one-hot encoder\n",
    "enc = preprocessing.LabelBinarizer()\n",
    "y_train_NN = enc.fit_transform(train_df.polarity)\n",
    "\n",
    "y_test_NN = enc.transform(test_df.polarity)"
   ]
  },
  {
   "cell_type": "markdown",
   "metadata": {},
   "source": [
    "## Text tf-dif Transformation"
   ]
  },
  {
   "cell_type": "code",
   "execution_count": 119,
   "metadata": {},
   "outputs": [
    {
     "name": "stdout",
     "output_type": "stream",
     "text": [
      "(1708, 1500)\n",
      "(587, 1500)\n"
     ]
    }
   ],
   "source": [
    "from sklearn.feature_extraction.text import CountVectorizer\n",
    "from sklearn.feature_extraction.text import TfidfTransformer\n",
    "MAX_FEATURES = 1500\n",
    "\n",
    "count_vect = CountVectorizer(stop_words = 'english', max_features = MAX_FEATURES)\n",
    "tfidf_transformer = TfidfTransformer()\n",
    "\n",
    "# train\n",
    "X_train_counts = count_vect.fit_transform(train_df[\"normalize_sentence\"])\n",
    "X_train_tfidf = tfidf_transformer.fit_transform(X_train_counts)\n",
    "print (X_train_tfidf.shape)\n",
    "\n",
    "# test\n",
    "X_test_counts = count_vect.transform(test_df[\"normalize_sentence\"])\n",
    "X_test_tfidf = tfidf_transformer.transform(X_test_counts)\n",
    "print (X_test_tfidf.shape)"
   ]
  },
  {
   "cell_type": "code",
   "execution_count": 121,
   "metadata": {
    "collapsed": true
   },
   "outputs": [],
   "source": [
    "# save transformers to preprocessing folders\n",
    "import pickle\n",
    "\n",
    "filename = 'count_vect_transformer.sav'\n",
    "filename_path = os.path.join(preprocessing_folder, filename)\n",
    "pickle.dump(count_vect, open(filename_path, 'wb'))\n",
    "\n",
    "filename = 'tfidf_transformer.sav'\n",
    "filename_path = os.path.join(preprocessing_folder, filename)\n",
    "pickle.dump(tfidf_transformer, open(filename_path, 'wb'))"
   ]
  },
  {
   "cell_type": "code",
   "execution_count": 122,
   "metadata": {
    "collapsed": true
   },
   "outputs": [],
   "source": [
    "# create int_to_word & word_to_int index\n",
    "int_to_word = {}\n",
    "\n",
    "for i in range(1, len(count_vect.get_feature_names())):\n",
    "    int_to_word[i] = count_vect.get_feature_names()[i]\n",
    "    \n",
    "word_to_int = dict([(word, index) for (index, word) in int_to_word.items()])"
   ]
  },
  {
   "cell_type": "markdown",
   "metadata": {},
   "source": [
    "## Aspect-specific Sentiment Analysis"
   ]
  },
  {
   "cell_type": "markdown",
   "metadata": {},
   "source": [
    "### Train classifier for each aspect"
   ]
  },
  {
   "cell_type": "code",
   "execution_count": 124,
   "metadata": {
    "collapsed": true
   },
   "outputs": [],
   "source": [
    "from sklearn.svm import LinearSVC\n",
    "\n",
    "def classify_aspect(train, target):\n",
    "    \n",
    "    \"\"\"function: build binary classifier to classify whether or not sentence belongs to an aspect or not\n",
    "       params: train: train data\n",
    "               target: binary target\n",
    "       return: trained SVM's model, coefficients and intercept \"\"\"\n",
    "    \n",
    "    \n",
    "    aspect_class_weight = {}\n",
    "    weights = len(list(target))/ (2 * np.bincount(list(target)))\n",
    "    for w in range(weights.shape[0]):\n",
    "        aspect_class_weight[w] = weights[w]\n",
    "        \n",
    "    model = LinearSVC(fit_intercept = False, class_weight = aspect_class_weight)\n",
    "    model.fit(train, target)\n",
    "    \n",
    "    return model, model.coef_, model.intercept_"
   ]
  },
  {
   "cell_type": "code",
   "execution_count": 125,
   "metadata": {
    "collapsed": true
   },
   "outputs": [],
   "source": [
    "# train classifier for each aspect\n",
    "# return model, coefficients, intercept\n",
    "is_ambience,is_ambience_coef, is_ambience_bias =  classify_aspect(X_train_tfidf, train_df.is_ambience)\n",
    "\n",
    "is_food,is_food_coef, is_food_bias =  classify_aspect(X_train_tfidf, train_df.is_food)\n",
    "\n",
    "is_other, is_other_coef, is_other_bias =  classify_aspect(X_train_tfidf, train_df.is_other)\n",
    "\n",
    "is_restaurant, is_restaurant_coef, is_restaurant_bias =  classify_aspect(X_train_tfidf, train_df.is_restaurant)\n",
    "\n",
    "is_service, is_service_coef, is_service_bias = classify_aspect(X_train_tfidf, train_df.is_service)\n"
   ]
  },
  {
   "cell_type": "code",
   "execution_count": 127,
   "metadata": {
    "collapsed": true
   },
   "outputs": [],
   "source": [
    "# save trained classifiers to aspect_classifier folder\n",
    "import pickle\n",
    "filename = 'is_ambience_classifier.sav'\n",
    "file_path = os.path.join(aspect_classifier_folder, filename)\n",
    "pickle.dump(is_ambience, open(file_path, 'wb'))\n",
    "\n",
    "filename = 'is_food_classifier.sav'\n",
    "file_path = os.path.join(aspect_classifier_folder, filename)\n",
    "pickle.dump(is_food, open(file_path, 'wb'))\n",
    "\n",
    "filename = 'is_other_classifier.sav'\n",
    "file_path = os.path.join(aspect_classifier_folder, filename)\n",
    "pickle.dump(is_other, open(file_path, 'wb'))\n",
    "\n",
    "filename = 'is_restaurant_classifier.sav'\n",
    "file_path = os.path.join(aspect_classifier_folder, filename)\n",
    "pickle.dump(is_restaurant, open(file_path, 'wb'))\n",
    "\n",
    "filename = 'is_service_classifier.sav'\n",
    "file_path = os.path.join(aspect_classifier_folder, filename)\n",
    "pickle.dump(is_service, open(file_path, 'wb'))"
   ]
  },
  {
   "cell_type": "code",
   "execution_count": 128,
   "metadata": {
    "collapsed": true
   },
   "outputs": [],
   "source": [
    "def get_relevance(coef, bias, data_tfidf, index):\n",
    "    \n",
    "    \"\"\"get contribution score for word in each sentence for a specific aspect\n",
    "    \n",
    "       params: coef: aspect classifier output coefficients\n",
    "               bias: aspect classifier output bias\n",
    "               tfidf_data: text data transformed after tfidf\n",
    "               index: index of the sentence in tfidf_data\n",
    "               \n",
    "       return: series of words' contribution score for the sentence\"\"\"\n",
    "    relevance = np.multiply(coef, data_tfidf.toarray()[index])[0]\n",
    "    \n",
    "    return relevance"
   ]
  },
  {
   "cell_type": "code",
   "execution_count": 129,
   "metadata": {},
   "outputs": [
    {
     "data": {
      "text/plain": [
       "(1500,)"
      ]
     },
     "execution_count": 129,
     "metadata": {},
     "output_type": "execute_result"
    }
   ],
   "source": [
    "# sample: \n",
    "get_relevance(is_restaurant_coef, is_restaurant_bias, X_train_tfidf, 0).shape"
   ]
  },
  {
   "cell_type": "code",
   "execution_count": 130,
   "metadata": {
    "collapsed": true
   },
   "outputs": [],
   "source": [
    "def get_aspect_vectors(aspect, coef, bias, df, data_tfidf, y_polarity):\n",
    "    \n",
    "    \"\"\"function: get sentences belong to indicated aspects,\n",
    "                 vtheir contribution vectors and ground truth sentiment polarity\n",
    "    \n",
    "       params: aspect: string, indicate aspect\n",
    "               coef: aspect classifier output coefficient\n",
    "               bias: aspect classifier output bias\n",
    "               tfidf_data: data transformed after tfidf vectorization\n",
    "               df: dataframe stores data points\n",
    "               data_tfidf: text data after tf-idf transformation\n",
    "               y_polarity: ground truth sentiment polarity for each sentence\n",
    "               \n",
    "       return: dataframe\"\"\"\n",
    "            \n",
    "    aspect_vectors = []\n",
    "    aspect_indexes = df[df[aspect] == 1].index.tolist()\n",
    "\n",
    "    for ind in aspect_indexes:\n",
    "        vectors = {}\n",
    "        \n",
    "        sentence = df.normalize_sentence[ind]\n",
    "        vect = get_relevance(coef, bias, data_tfidf, ind)\n",
    "        vectors[\"rid\"] = df.rid[ind]\n",
    "        vectors[\"train_df_index\"] = ind\n",
    "        vectors[\"sentence\"] = sentence\n",
    "        vectors[\"vector\"] = vect\n",
    "        vectors[\"polarity\"] = y_polarity[ind] # add polarity after label binarizer\n",
    "        \n",
    "        aspect_vectors.append(vectors)\n",
    "        \n",
    "    new_df = pd.DataFrame(aspect_vectors)\n",
    "    \n",
    "    return new_df"
   ]
  },
  {
   "cell_type": "code",
   "execution_count": 131,
   "metadata": {
    "collapsed": true
   },
   "outputs": [],
   "source": [
    "def classify_sentiment(x, y_true, target_names):\n",
    "    model = LinearSVC()\n",
    "    model.fit(x, y_true)\n",
    "\n",
    "    return model"
   ]
  },
  {
   "cell_type": "code",
   "execution_count": 143,
   "metadata": {
    "collapsed": true
   },
   "outputs": [],
   "source": [
    "from keras.models import Sequential\n",
    "from keras.layers import Embedding, Flatten, Dense\n",
    "\n",
    "def classify_sentiment_NN(x, y_true):\n",
    "    \n",
    "    \"\"\"function: build a DNN model as sentiment classifier\n",
    "       params: x: word contributions vectors for sentences\n",
    "               y_true: ground truth sentiment polarity\n",
    "               \n",
    "       return: trained model\"\"\"\n",
    "\n",
    "    model = Sequential()\n",
    "\n",
    "    model.add(Dense(128, activation = 'relu'))\n",
    "    model.add(Dense(32, activation = 'relu'))\n",
    "    model.add(Dense(3, activation = \"sigmoid\"))\n",
    "#    model.summary()\n",
    "\n",
    "    model.compile(optimizer='rmsprop',\n",
    "                 loss='categorical_crossentropy',\n",
    "                 metrics=['acc'])\n",
    "    \n",
    "    history = model.fit(x, y_true,\n",
    "                    epochs=10,\n",
    "                    batch_size=50, verbose = 0 ) #, class_weight = class_weight)\n",
    "    \n",
    "    return model"
   ]
  },
  {
   "cell_type": "code",
   "execution_count": 71,
   "metadata": {
    "collapsed": true
   },
   "outputs": [],
   "source": [
    "def save_model(model_folder, aspect, model):\n",
    "    \"\"\"function: save deep learning model to folder\n",
    "       params: model_folder: subdirectories\n",
    "               aspect: indicates a specific model\n",
    "               model: model including weights and architecture information\n",
    "    \"\"\"\n",
    "    model_weight = aspect + '_model_weights.h5'\n",
    "    model_arch = aspect + '_model_architecture.json'\n",
    "    \n",
    "    # Save the weights\n",
    "    model.save_weights(os.path.join(model_folder, model_weight))\n",
    "\n",
    "    # Save the model architecture\n",
    "    with open(os.path.join(model_folder, model_arch), 'w') as f:\n",
    "        f.write(model.to_json())\n",
    "    print (\"model saved\")\n"
   ]
  },
  {
   "cell_type": "code",
   "execution_count": 134,
   "metadata": {
    "collapsed": true
   },
   "outputs": [],
   "source": [
    "def pipeline(model_folder, aspect, is_aspect_coef, is_aspect_bias,\n",
    "            train_df, X_train_tfidf, y_train, test_df, X_test_tfidf, y_test):\n",
    "    \n",
    "    \"\"\"function: traditional model pipeline to train sentiment classifiers, predict and report train & test confusion matrix\n",
    "       params: model_folder: directories to store DNN model\n",
    "               aspect: string: to indicate which aspect\n",
    "               is_aspect_coef: aspect classifier output coefficients\n",
    "               is_aspect_bias: aspect classifier output bias\n",
    "               \n",
    "               train_df: train dataframe\n",
    "               X_train_tfidf: context data after tfidf transformation\n",
    "               y_train_NN: ground truth after transformation\n",
    "               \n",
    "               test_df: test dataframe\n",
    "               X_test_tfidf: context data after tfidf transformation\n",
    "               y_test_NN: ground truth after transformation\n",
    "    \"\"\"\n",
    "    \n",
    "    # aspect-TRAIN \n",
    "    aspect_df = get_aspect_vectors(aspect, is_aspect_coef, is_aspect_bias, train_df, X_train_tfidf, y_train )\n",
    "    aspect_train = np.array([list(data) for data in aspect_df.vector])\n",
    "    aspect_y = np.array(list(aspect_df.polarity))\n",
    "    \n",
    "    # aspect-TEST\n",
    "    aspect_df_test = get_aspect_vectors(aspect, is_aspect_coef, is_aspect_bias, test_df, X_test_tfidf, y_test)\n",
    "    aspect_test = pd.np.array([list(data) for data in aspect_df_test.vector])\n",
    "    aspect_test_y = np.array(list(aspect_df_test.polarity))\n",
    "\n",
    "    # train model\n",
    "    aspect_model = classify_sentiment(aspect_train, aspect_y)\n",
    "    \n",
    "    # save trained sentiment_classifier to disk \n",
    "    filename = aspect + '_classifier.sav'\n",
    "    file_path = os.path.join(model_folder, filename)\n",
    "    pickle.dump(aspect_model, open(file_path, 'wb'))\n",
    "\n",
    "    # predict-TRAIN\n",
    "    aspect_pred = aspect_model.predict(aspect_train)\n",
    "    # predict-TEST\n",
    "    aspect_test_pred = aspect_model.predict(aspect_test)\n",
    "\n",
    "    print (\"TRAIN\")\n",
    "    print (\"Accuracy score for baseline linear SVM in predicting sentiment: {}\".format(accuracy_score(aspect_y, aspect_pred)))\n",
    "    print (\" \")\n",
    "    print (classification_report(aspect_y, aspect_pred, target_names=target_names))\n",
    "    \n",
    "    print (\"TEST\")\n",
    "    print (\"Accuracy score for baseline linear SVM in predicting sentiment: {}\".format(accuracy_score(aspect_test_y, aspect_test_pred)))\n",
    "    print (\" \")\n",
    "    print (classification_report(aspect_test_y, aspect_test_pred, target_names=target_names))\n",
    "    "
   ]
  },
  {
   "cell_type": "code",
   "execution_count": 133,
   "metadata": {
    "collapsed": true
   },
   "outputs": [],
   "source": [
    "def pipeline_NN(model_folder, aspect, is_aspect_coef, is_aspect_bias, \n",
    "                train_df, X_train_tfidf, y_train_NN, test_df, X_test_tfidf, y_test_NN):\n",
    "    \n",
    "    \"\"\"function: deep learning model pipeline to train sentiment classifiers, predict and report train & test confusion matrix\n",
    "       params: model_folder: directories to store DNN model\n",
    "               aspect: string: to indicate which aspect\n",
    "               is_aspect_coef: aspect classifier output coefficients\n",
    "               is_aspect_bias: aspect classifier output bias\n",
    "               \n",
    "               train_df: train dataframe\n",
    "               X_train_tfidf: context data after tfidf transformation\n",
    "               y_train_NN: ground truth after transformation\n",
    "               \n",
    "               test_df: test dataframe\n",
    "               X_test_tfidf: context data after tfidf transformation\n",
    "               y_test_NN: ground truth after transformation\n",
    "               \n",
    "    \"\"\"\n",
    "    \n",
    "    # aspect-TRAIN \n",
    "    aspect_df = get_aspect_vectors(aspect, is_aspect_coef, is_aspect_bias, train_df, X_train_tfidf, y_train_NN )\n",
    "    aspect_train = pd.np.array([list(data) for data in aspect_df.vector])\n",
    "    aspect_y = np.array(list(aspect_df.polarity))\n",
    "    \n",
    "    # aspect-TEST\n",
    "    aspect_df_test = get_aspect_vectors(aspect, is_aspect_coef, is_aspect_bias, test_df, X_test_tfidf, y_test_NN)\n",
    "    aspect_test = pd.np.array([list(data) for data in aspect_df_test.vector])\n",
    "    aspect_test_y = pd.np.array(list(aspect_df_test.polarity))\n",
    "\n",
    "    # train model\n",
    "    aspect_model = classify_sentiment_NN(aspect_train, aspect_y, lb.classes_)    \n",
    "    # save trained sentiment_classifier_NN to disk    \n",
    "    save_model(model_folder, aspect, aspect_model)\n",
    "    \n",
    "    # predict-TRAIN\n",
    "    aspect_pred = np.argmax(aspect_model.predict(aspect_train), axis=1)\n",
    "    # predict-TEST\n",
    "    aspect_test_pred = np.argmax(aspect_model.predict(aspect_test), axis=1)\n",
    "\n",
    "    \n",
    "    # convert true-label-TRAIN\n",
    "    aspect_y = np.argmax(aspect_y, axis = 1)\n",
    "    # convert true-label-TEST\n",
    "    aspect_test_y = np.argmax(aspect_test_y, axis = 1)\n",
    "    \n",
    "    \n",
    "    print (\"TRAIN\")\n",
    "    print (\"Accuracy score for baseline linear SVM in predicting sentiment: {}\".format(accuracy_score(aspect_y, aspect_pred)))\n",
    "    print (\" \")\n",
    "    print (classification_report(aspect_y, aspect_pred, target_names=target_names))\n",
    "    \n",
    "    print (\"TEST\")\n",
    "    print (\"Accuracy score for baseline linear SVM in predicting sentiment: {}\".format(accuracy_score(aspect_test_y, aspect_test_pred)))\n",
    "    print (\" \")\n",
    "    print (classification_report(aspect_test_y, aspect_test_pred, target_names=target_names))\n",
    "    "
   ]
  },
  {
   "cell_type": "markdown",
   "metadata": {},
   "source": [
    "#### Train & Test Ambience Sentiment Analysis"
   ]
  },
  {
   "cell_type": "code",
   "execution_count": 136,
   "metadata": {},
   "outputs": [
    {
     "name": "stdout",
     "output_type": "stream",
     "text": [
      "TRAIN\n",
      "Accuracy score for baseline linear SVM in predicting sentiment: 0.8893805309734514\n",
      " \n",
      "             precision    recall  f1-score   support\n",
      "\n",
      "   negative       0.97      0.60      0.74        47\n",
      "    neutral       1.00      0.44      0.62         9\n",
      "   positive       0.88      0.99      0.93       170\n",
      "\n",
      "avg / total       0.90      0.89      0.88       226\n",
      "\n",
      "TEST\n",
      "Accuracy score for baseline linear SVM in predicting sentiment: 0.7894736842105263\n",
      " \n",
      "             precision    recall  f1-score   support\n",
      "\n",
      "   negative       0.00      0.00      0.00         7\n",
      "    neutral       0.00      0.00      0.00         3\n",
      "   positive       0.82      0.96      0.88        47\n",
      "\n",
      "avg / total       0.67      0.79      0.73        57\n",
      "\n"
     ]
    },
    {
     "name": "stderr",
     "output_type": "stream",
     "text": [
      "/usr/local/Cellar/python3/3.6.2/Frameworks/Python.framework/Versions/3.6/lib/python3.6/site-packages/sklearn/metrics/classification.py:1135: UndefinedMetricWarning: Precision and F-score are ill-defined and being set to 0.0 in labels with no predicted samples.\n",
      "  'precision', 'predicted', average, warn_for)\n"
     ]
    }
   ],
   "source": [
    "pipeline(sentiment_classifier_folder, \"is_ambience\", is_ambience_coef, is_ambience_bias)"
   ]
  },
  {
   "cell_type": "markdown",
   "metadata": {},
   "source": [
    "#### Train & Test Food Sentiment Analysis"
   ]
  },
  {
   "cell_type": "code",
   "execution_count": 137,
   "metadata": {},
   "outputs": [
    {
     "name": "stdout",
     "output_type": "stream",
     "text": [
      "TRAIN\n",
      "Accuracy score for baseline linear SVM in predicting sentiment: 0.8375165125495376\n",
      " \n",
      "             precision    recall  f1-score   support\n",
      "\n",
      "   negative       0.91      0.62      0.74       225\n",
      "    neutral       1.00      0.04      0.07        28\n",
      "   positive       0.82      0.98      0.89       504\n",
      "\n",
      "avg / total       0.85      0.84      0.82       757\n",
      "\n",
      "TEST\n",
      "Accuracy score for baseline linear SVM in predicting sentiment: 0.6848249027237354\n",
      " \n",
      "             precision    recall  f1-score   support\n",
      "\n",
      "   negative       0.29      0.22      0.25        54\n",
      "    neutral       0.00      0.00      0.00        15\n",
      "   positive       0.76      0.87      0.81       188\n",
      "\n",
      "avg / total       0.62      0.68      0.65       257\n",
      "\n"
     ]
    },
    {
     "name": "stderr",
     "output_type": "stream",
     "text": [
      "/usr/local/Cellar/python3/3.6.2/Frameworks/Python.framework/Versions/3.6/lib/python3.6/site-packages/sklearn/metrics/classification.py:1135: UndefinedMetricWarning: Precision and F-score are ill-defined and being set to 0.0 in labels with no predicted samples.\n",
      "  'precision', 'predicted', average, warn_for)\n"
     ]
    }
   ],
   "source": [
    "pipeline(sentiment_classifier_folder, \"is_food\", is_food_coef, is_food_bias)"
   ]
  },
  {
   "cell_type": "markdown",
   "metadata": {},
   "source": [
    "#### Train & Test Other Sentiment Analysis"
   ]
  },
  {
   "cell_type": "code",
   "execution_count": 138,
   "metadata": {},
   "outputs": [
    {
     "name": "stdout",
     "output_type": "stream",
     "text": [
      "TRAIN\n",
      "Accuracy score for baseline linear SVM in predicting sentiment: 0.8773584905660378\n",
      " \n",
      "             precision    recall  f1-score   support\n",
      "\n",
      "   negative       1.00      0.24      0.38        17\n",
      "    neutral       1.00      1.00      1.00         2\n",
      "   positive       0.87      1.00      0.93        87\n",
      "\n",
      "avg / total       0.89      0.88      0.84       106\n",
      "\n",
      "TEST\n",
      "Accuracy score for baseline linear SVM in predicting sentiment: 0.7659574468085106\n",
      " \n",
      "             precision    recall  f1-score   support\n",
      "\n",
      "   negative       0.00      0.00      0.00         8\n",
      "    neutral       0.00      0.00      0.00         1\n",
      "   positive       0.80      0.95      0.87        38\n",
      "\n",
      "avg / total       0.65      0.77      0.70        47\n",
      "\n"
     ]
    },
    {
     "name": "stderr",
     "output_type": "stream",
     "text": [
      "/usr/local/Cellar/python3/3.6.2/Frameworks/Python.framework/Versions/3.6/lib/python3.6/site-packages/sklearn/metrics/classification.py:1135: UndefinedMetricWarning: Precision and F-score are ill-defined and being set to 0.0 in labels with no predicted samples.\n",
      "  'precision', 'predicted', average, warn_for)\n"
     ]
    }
   ],
   "source": [
    "pipeline(sentiment_classifier_folder, \"is_other\", is_other_coef, is_other_bias)"
   ]
  },
  {
   "cell_type": "markdown",
   "metadata": {},
   "source": [
    "#### Train & Test Restaurant Sentiment Analysis"
   ]
  },
  {
   "cell_type": "code",
   "execution_count": 139,
   "metadata": {},
   "outputs": [
    {
     "name": "stdout",
     "output_type": "stream",
     "text": [
      "TRAIN\n",
      "Accuracy score for baseline linear SVM in predicting sentiment: 0.8404255319148937\n",
      " \n",
      "             precision    recall  f1-score   support\n",
      "\n",
      "   negative       0.92      0.56      0.69       149\n",
      "    neutral       1.00      0.22      0.36        23\n",
      "   positive       0.82      0.98      0.90       392\n",
      "\n",
      "avg / total       0.86      0.84      0.82       564\n",
      "\n",
      "TEST\n",
      "Accuracy score for baseline linear SVM in predicting sentiment: 0.6839378238341969\n",
      " \n",
      "             precision    recall  f1-score   support\n",
      "\n",
      "   negative       0.62      0.17      0.27        58\n",
      "    neutral       0.00      0.00      0.00         7\n",
      "   positive       0.69      0.95      0.80       128\n",
      "\n",
      "avg / total       0.64      0.68      0.61       193\n",
      "\n"
     ]
    },
    {
     "name": "stderr",
     "output_type": "stream",
     "text": [
      "/usr/local/Cellar/python3/3.6.2/Frameworks/Python.framework/Versions/3.6/lib/python3.6/site-packages/sklearn/metrics/classification.py:1135: UndefinedMetricWarning: Precision and F-score are ill-defined and being set to 0.0 in labels with no predicted samples.\n",
      "  'precision', 'predicted', average, warn_for)\n"
     ]
    }
   ],
   "source": [
    "pipeline(sentiment_classifier_folder, \"is_restaurant\", is_restaurant_coef, is_restaurant_bias)"
   ]
  },
  {
   "cell_type": "markdown",
   "metadata": {},
   "source": [
    "#### Train & Test Service Sentiment Analysis"
   ]
  },
  {
   "cell_type": "code",
   "execution_count": 140,
   "metadata": {},
   "outputs": [
    {
     "name": "stdout",
     "output_type": "stream",
     "text": [
      "TRAIN\n",
      "Accuracy score for baseline linear SVM in predicting sentiment: 0.883054892601432\n",
      " \n",
      "             precision    recall  f1-score   support\n",
      "\n",
      "   negative       0.89      0.90      0.90       207\n",
      "    neutral       1.00      0.20      0.33        15\n",
      "   positive       0.87      0.91      0.89       197\n",
      "\n",
      "avg / total       0.89      0.88      0.88       419\n",
      "\n",
      "TEST\n",
      "Accuracy score for baseline linear SVM in predicting sentiment: 0.7034482758620689\n",
      " \n",
      "             precision    recall  f1-score   support\n",
      "\n",
      "   negative       0.69      0.83      0.75        71\n",
      "    neutral       0.00      0.00      0.00         9\n",
      "   positive       0.73      0.66      0.69        65\n",
      "\n",
      "avg / total       0.66      0.70      0.68       145\n",
      "\n"
     ]
    },
    {
     "name": "stderr",
     "output_type": "stream",
     "text": [
      "/usr/local/Cellar/python3/3.6.2/Frameworks/Python.framework/Versions/3.6/lib/python3.6/site-packages/sklearn/metrics/classification.py:1135: UndefinedMetricWarning: Precision and F-score are ill-defined and being set to 0.0 in labels with no predicted samples.\n",
      "  'precision', 'predicted', average, warn_for)\n"
     ]
    }
   ],
   "source": [
    "pipeline(sentiment_classifier_folder, \"is_service\", is_service_coef, is_service_bias)"
   ]
  },
  {
   "cell_type": "code",
   "execution_count": null,
   "metadata": {
    "collapsed": true
   },
   "outputs": [],
   "source": []
  },
  {
   "cell_type": "code",
   "execution_count": null,
   "metadata": {
    "collapsed": true
   },
   "outputs": [],
   "source": []
  }
 ],
 "metadata": {
  "kernelspec": {
   "display_name": "Python 3",
   "language": "python",
   "name": "python3"
  },
  "language_info": {
   "codemirror_mode": {
    "name": "ipython",
    "version": 3
   },
   "file_extension": ".py",
   "mimetype": "text/x-python",
   "name": "python",
   "nbconvert_exporter": "python",
   "pygments_lexer": "ipython3",
   "version": "3.6.2"
  }
 },
 "nbformat": 4,
 "nbformat_minor": 2
}
